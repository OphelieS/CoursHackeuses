{
 "cells": [
  {
   "cell_type": "markdown",
   "metadata": {},
   "source": [
    "# Visualisation graphique : les courbes"
   ]
  },
  {
   "cell_type": "markdown",
   "metadata": {},
   "source": [
    "## Présentation du jeu de données"
   ]
  },
  {
   "cell_type": "markdown",
   "metadata": {},
   "source": [
    "__À vous !__\n",
    ">- Importer les données 'unrate.csv' dans un dataframe.\n",
    ">- Regarder ce qu'il contient et notamment les types des différentes variables présentes :\n",
    ">>- Que dire du format des données de dates ?\n",
    ">>- Utiliser pandas.to_datetime() pour les convertir au format datetime64\n",
    "\n",
    ">La variable \"unrate\" correspond à _unemployment rate_ c'est-à-dire le taux de chômage."
   ]
  },
  {
   "cell_type": "code",
   "execution_count": 1,
   "metadata": {
    "tags": []
   },
   "outputs": [
    {
     "ename": "ModuleNotFoundError",
     "evalue": "No module named 'pandas'",
     "output_type": "error",
     "traceback": [
      "\u001b[0;31m---------------------------------------------------------------------------\u001b[0m",
      "\u001b[0;31mModuleNotFoundError\u001b[0m                       Traceback (most recent call last)",
      "Cell \u001b[0;32mIn[1], line 1\u001b[0m\n\u001b[0;32m----> 1\u001b[0m \u001b[39mimport\u001b[39;00m \u001b[39mpandas\u001b[39;00m \u001b[39mas\u001b[39;00m \u001b[39mpd\u001b[39;00m\n",
      "\u001b[0;31mModuleNotFoundError\u001b[0m: No module named 'pandas'"
     ]
    }
   ],
   "source": [
    "import pandas as pd\n"
   ]
  },
  {
   "cell_type": "code",
   "execution_count": 2,
   "metadata": {},
   "outputs": [
    {
     "data": {
      "text/plain": [
       "DATE       object\n",
       "UNRATE    float64\n",
       "dtype: object"
      ]
     },
     "execution_count": 2,
     "metadata": {},
     "output_type": "execute_result"
    }
   ],
   "source": []
  },
  {
   "cell_type": "code",
   "execution_count": 2,
   "metadata": {},
   "outputs": [],
   "source": [
    "# on convertit nos données date au format datetime\n"
   ]
  },
  {
   "cell_type": "markdown",
   "metadata": {},
   "source": [
    "## Introduction à matplotlib"
   ]
  },
  {
   "cell_type": "code",
   "execution_count": 4,
   "metadata": {},
   "outputs": [],
   "source": [
    "# import de la bibliothèque pyplot de matplotlib\n",
    "import matplotlib.pyplot as plt"
   ]
  },
  {
   "cell_type": "code",
   "execution_count": 5,
   "metadata": {},
   "outputs": [
    {
     "data": {
      "image/png": "[encoded data removed]",
      "text/plain": [
       "<Figure size 432x288 with 1 Axes>"
      ]
     },
     "metadata": {
      "needs_background": "light"
     },
     "output_type": "display_data"
    }
   ],
   "source": [
    "plt.plot() # génère un graphique avec les axes et les mesures sur les axes\n",
    "plt.show() # affiche le graphique à l'écran (en l'occurence vide)"
   ]
  },
  {
   "cell_type": "markdown",
   "metadata": {},
   "source": [
    "## Ajouter des données à nos graphiques"
   ]
  },
  {
   "cell_type": "markdown",
   "metadata": {},
   "source": [
    "__À vous !__\n",
    ">- Générer un graphique linéaire permettant de visualiser les taux de chômage de 1948 (_ie_ les 12 premières valeurs du dataframe)\n",
    ">- Afficher le graphique"
   ]
  },
  {
   "cell_type": "code",
   "execution_count": null,
   "metadata": {},
   "outputs": [],
   "source": []
  },
  {
   "cell_type": "code",
   "execution_count": 3,
   "metadata": {},
   "outputs": [],
   "source": [
    "# de manière équivalente\n"
   ]
  },
  {
   "cell_type": "markdown",
   "metadata": {},
   "source": [
    "## Créer une rotation sur les labels de l'axe des abscisses"
   ]
  },
  {
   "cell_type": "markdown",
   "metadata": {},
   "source": [
    "On peut avoir un problème d'affichage au niveau des axes des abscisses avec des labels qui se chevauchent...un solution possible est de faire pivoter les labels de l'axe des x.  \n",
    "Pour cela, utiliser la fonction pyplot.xticks() pour créer une roration de 90 degrés."
   ]
  },
  {
   "cell_type": "code",
   "execution_count": null,
   "metadata": {},
   "outputs": [],
   "source": [
    "plt.plot(first_year['DATE'], first_year['UNRATE'])\n",
    "plt.xticks(rotation=70) # essayer avec différentes valeurs d'angles pour obtenir l'affichage qui vous convient\n",
    "plt.show()"
   ]
  },
  {
   "cell_type": "markdown",
   "metadata": {},
   "source": [
    "## Personnaliser les courbes"
   ]
  },
  {
   "cell_type": "markdown",
   "metadata": {},
   "source": [
    "De nombreuses options d'affichage sont disponibles pour personnaliser vos courbes (et notamment vous permettre de les différencier lorsqu'on affichera plusieurs courbes sur un même graphique).  \n",
    "Jouer sur les différents paramètres suivants pour voir leurs effets (cf https://matplotlib.org/3.1.1/api/_as_gen/matplotlib.lines.Line2D.html)"
   ]
  },
  {
   "cell_type": "code",
   "execution_count": null,
   "metadata": {},
   "outputs": [],
   "source": [
    "import matplotlib.pyplot as plt\n",
    "plt.plot(first_year['DATE'], first_year['UNRATE'],\n",
    "         color = 'red', ls=\"-.\", lw = 1.5,\n",
    "        marker=\".\")\n",
    "plt.show()"
   ]
  },
  {
   "cell_type": "code",
   "execution_count": null,
   "metadata": {},
   "outputs": [],
   "source": [
    "plt.plot(first_year['DATE'], first_year['UNRATE'],\n",
    "         color = 'green',\n",
    "         ls = '--', lw = 2,\n",
    "         marker = 'o', ms = 12, mec = 'red', mew = 3, mfc = 'green')\n",
    "plt.show()"
   ]
  },
  {
   "cell_type": "markdown",
   "metadata": {},
   "source": [
    "## Ajouter les intitulés des axes et un titre à notre graphique"
   ]
  },
  {
   "cell_type": "markdown",
   "metadata": {},
   "source": [
    "__À vous !__\n",
    ">- Générer le même graphique que précédemment en ajoutant les intitulés des axes x et y ainsi que le titre (fonctions xlabel, ylabel et title).\n",
    ">- Définir le nom de l'axe x par \"Mois\".\n",
    ">- Définir le nom de l'axe y par \"Taux de chômage (%)\".\n",
    ">- Définir le titre par \"Évolution du taux de chômage en 1948 aux USA\".\n",
    ">- Afficher le graphique.  \n",
    ">- Changer les limites de l'axe y, en le faisant notamment commencer par 0. Pourquoi c'est moins trompeur ainsi?"
   ]
  },
  {
   "cell_type": "code",
   "execution_count": null,
   "metadata": {},
   "outputs": [],
   "source": [
    "plt.plot(data['DATE'], data['UNRATE'],\n",
    "         color = 'red', ls=\"-.\", lw = 1)\n",
    "plt.xlabel(\"Date\")\n",
    "plt.ylabel(\"Taux de chômage\")\n",
    "plt.title(\"Évolution du taux de chômage mensuel entre 1948 et 2018\")\n",
    "plt.ylim(0, 12)\n",
    "plt.show()"
   ]
  }
 ],
 "metadata": {
  "kernelspec": {
   "display_name": "Python 3 (ipykernel)",
   "language": "python",
   "name": "python3"
  },
  "language_info": {
   "codemirror_mode": {
    "name": "ipython",
    "version": 3
   },
   "file_extension": ".py",
   "mimetype": "text/x-python",
   "name": "python",
   "nbconvert_exporter": "python",
   "pygments_lexer": "ipython3",
   "version": "3.11.2"
  }
 },
 "nbformat": 4,
 "nbformat_minor": 4
}
